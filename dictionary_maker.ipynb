{
 "cells": [
  {
   "cell_type": "code",
   "execution_count": 20,
   "metadata": {},
   "outputs": [],
   "source": [
    "import json\n",
    "from nltk.stem.porter import *\n",
    "stemmer = PorterStemmer()\n",
    "courses={}\n",
    "with open('Course.json') as json_file:  \n",
    "    data = json.load(json_file)\n",
    "    for p in data['courses']:\n",
    "        wordlist=[]\n",
    "        for word in p['Name'].split() + p['Area'].split():\n",
    "            word=word.lower()\n",
    "            word=stemmer.stem(word)\n",
    "            wordlist.append(word)\n",
    "        courses[p['Name']]=wordlist"
   ]
  },
  {
   "cell_type": "code",
   "execution_count": 43,
   "metadata": {},
   "outputs": [
    {
     "name": "stdout",
     "output_type": "stream",
     "text": [
      "Search for a course artificial\n",
      "['artifici']\n"
     ]
    }
   ],
   "source": [
    "search = input(\"Search for a course \")\n",
    "search=search.lower()\n",
    "search=stemmer.stem(search)\n",
    "search=search.split()\n",
    "print(search)"
   ]
  },
  {
   "cell_type": "code",
   "execution_count": 44,
   "metadata": {},
   "outputs": [],
   "source": [
    "results={}\n",
    "for course in courses:\n",
    "    matches=0\n",
    "    for words in courses[course]:\n",
    "        for query in search:\n",
    "            if query in words:\n",
    "                matches+=1\n",
    "            if (query ==words):\n",
    "                matches+=1\n",
    "    if(matches>0):\n",
    "        if matches not in results:\n",
    "            results[matches]=[]\n",
    "        results[matches].append(course)"
   ]
  },
  {
   "cell_type": "code",
   "execution_count": 45,
   "metadata": {},
   "outputs": [
    {
     "name": "stdout",
     "output_type": "stream",
     "text": [
      "Accelerated Natural Language Processing 2\n",
      "Automatic Speech Recognition 2\n",
      "Machine Learning Practical 2\n",
      "Machine Learning and Pattern Recognition 2\n",
      "Automated Reasoning 2\n",
      "Foundations of Natural Language Processing 2\n",
      "Introduction to Vision and Robotics 2\n",
      "System Design Project 2\n",
      "Computational Cognitive Science 2\n",
      "Introductory Applied Machine Learning 2\n"
     ]
    }
   ],
   "source": [
    "for output in reversed(sorted(results.keys())):\n",
    "    for course in results[output]:\n",
    "        print(course, output)\n",
    "        \n",
    "    "
   ]
  },
  {
   "cell_type": "code",
   "execution_count": 24,
   "metadata": {},
   "outputs": [
    {
     "name": "stdout",
     "output_type": "stream",
     "text": [
      "{}\n"
     ]
    }
   ],
   "source": [
    "print(results)"
   ]
  },
  {
   "cell_type": "code",
   "execution_count": null,
   "metadata": {},
   "outputs": [],
   "source": []
  }
 ],
 "metadata": {
  "kernelspec": {
   "display_name": "Python 3",
   "language": "python",
   "name": "python3"
  },
  "language_info": {
   "codemirror_mode": {
    "name": "ipython",
    "version": 3
   },
   "file_extension": ".py",
   "mimetype": "text/x-python",
   "name": "python",
   "nbconvert_exporter": "python",
   "pygments_lexer": "ipython3",
   "version": "3.6.6"
  }
 },
 "nbformat": 4,
 "nbformat_minor": 2
}
