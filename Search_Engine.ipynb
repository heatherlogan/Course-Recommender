{
 "cells": [
  {
   "cell_type": "code",
   "execution_count": 158,
   "metadata": {},
   "outputs": [],
   "source": [
    "#Create a dictionary with course names, area and summary from parsed json file. Words are converted to lower case and stemmed.\n",
    "#Key is the course name, value is a list of stemmed words from course title, area and summary with the year it is delivered in added at the end.\n",
    "#Punctuation marks have been removed using regex\n",
    "import json\n",
    "import re\n",
    "from nltk.stem.porter import *\n",
    "stemmer = PorterStemmer()\n",
    "courses={}\n",
    "with open('course_data.json') as json_file:  \n",
    "    data = json.load(json_file)\n",
    "    for p in data['courses']:\n",
    "        wordlist=[]\n",
    "        for word in p['Summary'].split() + p['Name'].split() + p['Area'].split() +[\"year\"+p['Year']]: #Add year of the course to improve search efficiency\n",
    "            word=word.lower()\n",
    "            word=re.sub(r'\\W+', '', word)\n",
    "            word=stemmer.stem(word)\n",
    "            wordlist.append(word)\n",
    "        courses[p['Name']]=wordlist"
   ]
  },
  {
   "cell_type": "code",
   "execution_count": 159,
   "metadata": {},
   "outputs": [
    {
     "name": "stdout",
     "output_type": "stream",
     "text": [
      "Search for a course: maths\n",
      "['math']\n"
     ]
    }
   ],
   "source": [
    "#User input is stemmed an converted to lowercase. When year is followed by a number it is added as a single search term.\n",
    "#For example Year 2 gets converted to year2, as this is how the year is added to the list of search terms for a course in the dictionary\n",
    "#This ensures when someone searches for Year 2 they get more courses delivered in Year 2 higher up the search results and not just courses that have the number 2 in them \n",
    "search = input(\"Search for a course: \")\n",
    "search=search.lower()\n",
    "search=search.split()\n",
    "stemmed=[]\n",
    "for word in range(0, len(search)):\n",
    "    if(search[word] in ['1', '2', '3', '4', '5']):\n",
    "        if(word>0):\n",
    "            if(search[word-1]==\"year\"):\n",
    "                stemmed[len(stemmed)-1]=\"year\"+search[word]\n",
    "            else:\n",
    "                search[word]=re.sub(r'\\W+', '', search[word])\n",
    "                stemmed.append(stemmer.stem(search[word]))\n",
    "        else:\n",
    "            search[word]=re.sub(r'\\W+', '', search[word])\n",
    "            stemmed.append(stemmer.stem(search[word]))\n",
    "    else:\n",
    "        search[word]=re.sub(r'\\W+', '', search[word])\n",
    "        stemmed.append(stemmer.stem(search[word]))\n",
    "search=stemmed\n",
    "print(search)"
   ]
  },
  {
   "cell_type": "code",
   "execution_count": 160,
   "metadata": {},
   "outputs": [],
   "source": [
    "# Search queries are given scores based ona  few different criteria\n",
    "# If a word in the search query is part of a word in the list of courses a score of 1 is added\n",
    "# If it is a perfect match an additional point is added\n",
    "# If consecutive words match or are contained within a word on the list additonal score of 1 on top of the individual matched words is added\n",
    "results={}\n",
    "for course in courses:\n",
    "    matches=0\n",
    "    for words in range(0, len(courses[course])):\n",
    "        for query in range(0, len(search)):\n",
    "            if search[query] in courses[course][words]:\n",
    "                if(query<len(search)-1 and words < len(courses[course])-1):\n",
    "                    if(search[query+1] in courses[course][words+1]):\n",
    "                        matches+=1\n",
    "                    if(search[query+1] == courses[course][words+1]):\n",
    "                        matches+=1\n",
    "                matches+=1\n",
    "            if (search[query] ==courses[course][words]):\n",
    "                if(query<len(search)-1 and words < len(courses[course])-1):\n",
    "                    if(search[query+1] in courses[course][words+1]):\n",
    "                        matches+=1\n",
    "                    if(search[query+1] == courses[course][words+1]):\n",
    "                        matches+=1\n",
    "                matches+=1\n",
    "    if(matches>0):\n",
    "        if matches not in results:\n",
    "            results[matches]=[]\n",
    "        results[matches].append(course)"
   ]
  },
  {
   "cell_type": "code",
   "execution_count": 161,
   "metadata": {},
   "outputs": [
    {
     "name": "stdout",
     "output_type": "stream",
     "text": [
      "Discrete Mathematics and Mathematical Reasoning (score:4)\n",
      "Computer Algebra (score:4)\n",
      "Introduction to Research in Data Science (score:2)\n",
      "Types and Semantics for Programming Languages (score:1)\n",
      "Social and Technological Networks (score:1)\n",
      "Neural Information Processing (score:1)\n",
      "Neural Computation (score:1)\n",
      "Introduction to Quantum Computing (score:1)\n",
      "Automated Reasoning (score:1)\n",
      "Algorithms and Data Structures (score:1)\n"
     ]
    }
   ],
   "source": [
    "#Output matched courses in descending order of matches\n",
    "for output in reversed(sorted(results.keys())):\n",
    "    for course in results[output]:\n",
    "        print(course, \"(score:\"+str(output)+\")\")"
   ]
  }
 ],
 "metadata": {
  "kernelspec": {
   "display_name": "Python 3",
   "language": "python",
   "name": "python3"
  },
  "language_info": {
   "codemirror_mode": {
    "name": "ipython",
    "version": 3
   },
   "file_extension": ".py",
   "mimetype": "text/x-python",
   "name": "python",
   "nbconvert_exporter": "python",
   "pygments_lexer": "ipython3",
   "version": "3.6.7"
  }
 },
 "nbformat": 4,
 "nbformat_minor": 2
}
