{
 "cells": [
  {
   "cell_type": "code",
   "execution_count": 73,
   "metadata": {},
   "outputs": [],
   "source": [
    "import json\n",
    "from nltk.stem.porter import *\n",
    "stemmer = PorterStemmer()\n",
    "courses={}\n",
    "with open('all_course_info.json') as json_file:  \n",
    "    data = json.load(json_file)\n",
    "    for p in data['courses']:\n",
    "        wordlist=[]\n",
    "        for word in p['Name'].split() + p['Area'].split() +[\"year\"+p['Year']]:\n",
    "            word=word.lower()\n",
    "            word=stemmer.stem(word)\n",
    "            wordlist.append(word)\n",
    "        courses[p['Name']]=wordlist"
   ]
  },
  {
   "cell_type": "code",
   "execution_count": 74,
   "metadata": {},
   "outputs": [
    {
     "name": "stdout",
     "output_type": "stream",
     "text": [
      "{'Automated Reasoning': ['autom', 'reason', 'artifici', 'intellig', 'year3'], 'Computer Design': ['comput', 'design', 'architectur', 'year3'], 'Foundations of Natural Language Processing': ['foundat', 'of', 'natur', 'languag', 'process', 'artifici', 'intellig', 'year3'], 'Introduction to Vision and Robotics': ['introduct', 'to', 'vision', 'and', 'robot', 'artifici', 'intellig', 'year3'], 'Operating Systems': ['oper', 'system', 'architectur', 'year3'], 'System Design Project': ['system', 'design', 'project', 'softwar', 'engin', 'year3'], 'Algorithms and Data Structures': ['algorithm', 'and', 'data', 'structur', 'algorithm', 'and', 'data', 'structur', 'year3'], 'Computational Cognitive Science': ['comput', 'cognit', 'scienc', 'artifici', 'intellig', 'year3'], 'Computer Communications and Networks': ['comput', 'commun', 'and', 'network', 'network', 'year3'], 'Computer Security': ['comput', 'secur', 'secur', 'year3'], 'Database Systems': ['databas', 'system', 'data', 'scienc', 'year3'], 'Compiling Techniques': ['compil', 'techniqu', 'program', 'year3'], 'Introductory Applied Machine Learning': ['introductori', 'appli', 'machin', 'learn', 'artifici', 'intellig', 'year3'], 'Introduction to Theoretical Computer Science': ['introduct', 'to', 'theoret', 'comput', 'scienc', 'theori', 'of', 'comput', 'year3'], 'Professional Issues': ['profession', 'issu', 'misc.', 'year3'], 'Software Testing': ['softwar', 'test', 'softwar', 'engin', 'year3'], 'Accelerated Natural Language Processing': ['acceler', 'natur', 'languag', 'process', 'artifici', 'intellig', 'year6'], 'Advanced Databases': ['advanc', 'databas', 'data', 'scienc', 'year4'], 'Algorithmic Game Theory and its Applications': ['algorithm', 'game', 'theori', 'and', 'it', 'applic', 'algorithm', 'and', 'data', 'structur', 'year4'], 'Automatic Speech Recognition': ['automat', 'speech', 'recognit', 'artifici', 'intellig', 'year4'], 'Blockchains and Distributed Ledgers': ['blockchain', 'and', 'distribut', 'ledger', 'secur', 'year4'], 'Compiler Optimisation': ['compil', 'optimis', 'program', 'year4'], 'Computer Animation & Visualisation': ['comput', 'anim', '&', 'visualis', 'graphic', 'year4'], 'Extreme Computing': ['extrem', 'comput', 'softwar', 'engin', 'year4'], 'Human-Computer Interaction': ['human-comput', 'interact', 'misc.', 'year4'], 'Introduction to Modern Cryptography': ['introduct', 'to', 'modern', 'cryptographi', 'secur', 'year4'], 'Introduction to Quantum Computing': ['introduct', 'to', 'quantum', 'comput', 'theori', 'of', 'comput', 'year4'], 'Machine Learning Practical': ['machin', 'learn', 'practic', 'artifici', 'intellig', 'year4'], 'Machine Learning and Pattern Recognition': ['machin', 'learn', 'and', 'pattern', 'recognit', 'artifici', 'intellig', 'year4'], 'Performance Modelling': ['perform', 'model', 'graphic', 'year4'], 'Parallel Programming Languages and Systems': ['parallel', 'program', 'languag', 'and', 'system', 'program', 'year4'], 'Principles and Design of IoT Systems': ['principl', 'and', 'design', 'of', 'iot', 'system', 'internet', 'of', 'thing', 'year4'], 'Randomness and Computation': ['random', 'and', 'comput', 'theori', 'of', 'comput', 'year4'], 'Software Architecture, Process, and Management': ['softwar', 'architecture,', 'process,', 'and', 'manag', 'softwar', 'engin', 'year4'], 'Secure Programming': ['secur', 'program', 'secur', 'year4'], 'Social and Technological Networks': ['social', 'and', 'technolog', 'network', 'network', 'year4'], 'Text Technologies for Data Science': ['text', 'technolog', 'for', 'data', 'scienc', 'data', 'scienc', 'year4'], 'Types and Semantics for Programming Languages': ['type', 'and', 'semant', 'for', 'program', 'languag', 'program', 'year4'], 'Advanced Message-passing Programming': ['advanc', 'message-pass', 'program', 'program', 'year5'], 'Advanced Parallel Techniques': ['advanc', 'parallel', 'techniqu', 'program', 'year5'], 'Advanced Topics in Foundations of Databases': ['advanc', 'topic', 'in', 'foundat', 'of', 'databas', 'data', 'scienc', 'year5'], 'Advanced Vision': ['advanc', 'vision', 'artifici', 'intellig', 'year4'], 'Advances in Programming Languages': ['advanc', 'in', 'program', 'languag', 'program', 'year4'], 'Algorithmic Foundations of Data Science': ['algorithm', 'foundat', 'of', 'data', 'scienc', 'algorithm', 'and', 'data', 'structur', 'year4'], 'Artificial Intelligence, Present and Future': ['artifici', 'intelligence,', 'present', 'and', 'futur', 'artifici', 'intellig', 'year5'], 'Bioinformatics 1': ['bioinformat', '1', 'misc.', 'year4'], 'Bioinformatics 2': ['bioinformat', '2', 'misc.', 'year5'], 'Case Studies in Design Informatics 1': ['case', 'studi', 'in', 'design', 'informat', '1', 'misc.', 'year5'], 'Case Studies in Design Informatics 2': ['case', 'studi', 'in', 'design', 'informat', '2', 'misc.', 'year5'], 'Computational Cognitive Neuroscience': ['comput', 'cognit', 'neurosci', 'artifici', 'intellig', 'year3'], 'Computational Complexity': ['comput', 'complex', 'theori', 'of', 'comput', 'year4'], 'Computer Algebra': ['comput', 'algebra', 'theori', 'of', 'comput', 'year4'], 'Computer Programming Skills and Concepts': ['comput', 'program', 'skill', 'and', 'concept', 'program', 'year1'], 'Data Analytics with High Performance Computing': ['data', 'analyt', 'with', 'high', 'perform', 'comput', 'data', 'scienc', 'year5'], 'Data Mining and Exploration': ['data', 'mine', 'and', 'explor', 'data', 'scienc', 'year5'], 'Decision Making in Robots and Autonomous Agents': ['decis', 'make', 'in', 'robot', 'and', 'autonom', 'agent', 'artifici', 'intellig', 'year5'], 'Design and Analysis of Parallel Algorithms': ['design', 'and', 'analysi', 'of', 'parallel', 'algorithm', 'program', 'year5'], 'Discrete Mathematics and Mathematical Reasoning': ['discret', 'mathemat', 'and', 'mathemat', 'reason', 'theori', 'of', 'comput', 'year2'], 'Fundamentals of Data Management': ['fundament', 'of', 'data', 'manag', 'data', 'scienc', 'year5'], 'HPC Architectures': ['hpc', 'architectur', 'architectur', 'year5'], 'Image and Vision Computing': ['imag', 'and', 'vision', 'comput', 'graphic', 'year5'], 'Informatics 1 - Cognitive Science': ['informat', '1', '-', 'cognit', 'scienc', 'artifici', 'intellig', 'year1'], 'Informatics 1 - Data and Analysis': ['informat', '1', '-', 'data', 'and', 'analysi', 'data', 'scienc', 'year1'], 'Informatics 1 - Introduction to Computation': ['informat', '1', '-', 'introduct', 'to', 'comput', 'misc.', 'year1'], 'Informatics 1 - Object-Oriented Programming': ['informat', '1', '-', 'object-ori', 'program', 'program', 'year1'], 'Informatics 2A - Processing Formal and Natural Languages': ['informat', '2a', '-', 'process', 'formal', 'and', 'natur', 'languag', 'misc.', 'year2'], 'Informatics 2B - Algorithms, Data Structures, Learning': ['informat', '2b', '-', 'algorithms,', 'data', 'structures,', 'learn', 'algorithm', 'and', 'data', 'structur', 'year2'], 'Informatics 2C - Introduction to Computer Systems': ['informat', '2c', '-', 'introduct', 'to', 'comput', 'system', 'architectur', 'year2'], 'Informatics 2C - Introduction to Software Engineering': ['informat', '2c', '-', 'introduct', 'to', 'softwar', 'engin', 'softwar', 'engin', 'year2'], 'Informatics 2D - Reasoning and Agents': ['informat', '2d', '-', 'reason', 'and', 'agent', 'artifici', 'intellig', 'year2'], 'Informatics Large Practical': ['informat', 'larg', 'practic', 'misc.', 'year3'], 'Informatics Project Proposal': ['informat', 'project', 'propos', 'misc.', 'year5'], 'Informatics Research Review': ['informat', 'research', 'review', 'misc.', 'year5'], 'Internet of Things Systems, Security, and the Cloud (IoTSSC)': ['internet', 'of', 'thing', 'systems,', 'security,', 'and', 'the', 'cloud', '(iotssc)', 'internet', 'of', 'thing', 'year4'], 'Introduction to Java Programming': ['introduct', 'to', 'java', 'program', 'program', 'year5'], 'Introduction to Research in Data Science': ['introduct', 'to', 'research', 'in', 'data', 'scienc', 'data', 'scienc', 'year5'], 'Message-passing Programming': ['message-pass', 'program', 'program', 'year5'], 'Music Informatics': ['music', 'informat', 'misc.', 'year5'], 'Natural Computing': ['natur', 'comput', 'misc.', 'year4'], 'Natural Language Understanding, Generation, and Machine Translation': ['natur', 'languag', 'understanding,', 'generation,', 'and', 'machin', 'translat', 'artifici', 'intellig', 'year4'], 'Neural Computation': ['neural', 'comput', 'misc.', 'year4'], 'Neural Information Processing': ['neural', 'inform', 'process', 'misc.', 'year5'], 'Numerical Algorithms for High Performance Computing': ['numer', 'algorithm', 'for', 'high', 'perform', 'comput', 'algorithm', 'and', 'data', 'structur', 'year5'], 'Parallel Design Patterns': ['parallel', 'design', 'pattern', 'misc.', 'year5'], 'Performance Programming': ['perform', 'program', 'program', 'year5'], 'Pervasive Parallelism': ['pervas', 'parallel', 'misc.', 'year5'], 'Probabilistic Modelling and Reasoning': ['probabilist', 'model', 'and', 'reason', 'misc.', 'year5'], 'Programming Skills': ['program', 'skill', 'program', 'year5'], 'Project Preparation': ['project', 'prepar', 'misc.', 'year5'], 'Reinforcement Learning': ['reinforc', 'learn', 'artifici', 'intellig', 'year5'], 'Robot Learning and Sensorimotor Control': ['robot', 'learn', 'and', 'sensorimotor', 'control', 'artifici', 'intellig', 'year5'], 'Robotics: Science and Systems': ['robotics:', 'scienc', 'and', 'system', 'artifici', 'intellig', 'year5'], 'Software Design and Modelling': ['softwar', 'design', 'and', 'model', 'softwar', 'engin', 'year3'], 'Software Development': ['softwar', 'develop', 'softwar', 'engin', 'year5'], 'The Human Factor: Working with Users': ['the', 'human', 'factor:', 'work', 'with', 'user', 'misc.', 'year5'], 'Threaded Programming': ['thread', 'program', 'program', 'year5'], 'Usable Security and Privacy': ['usabl', 'secur', 'and', 'privaci', 'secur', 'year4']}\n"
     ]
    }
   ],
   "source": [
    "print(courses)"
   ]
  },
  {
   "cell_type": "code",
   "execution_count": 76,
   "metadata": {},
   "outputs": [
    {
     "name": "stdout",
     "output_type": "stream",
     "text": [
      "Search for a course year 2\n",
      "['year2']\n"
     ]
    }
   ],
   "source": [
    "search = input(\"Search for a course \")\n",
    "search=search.lower()\n",
    "search=search.split()\n",
    "stemmed=[]\n",
    "for word in range(0, len(search)):\n",
    "    if(search[word] in ['1', '2', '3', '4', '5']):\n",
    "        if(word>0):\n",
    "            if(search[word-1]==\"year\"):\n",
    "                stemmed[len(stemmed)-1]=\"year\"+search[word]\n",
    "            else:\n",
    "                stemmed.append(stemmer.stem(search[word]))\n",
    "        else:\n",
    "            stemmed.append(stemmer.stem(search[word]))\n",
    "    else:\n",
    "        stemmed.append(stemmer.stem(search[word]))\n",
    "search=stemmed\n",
    "print(search)"
   ]
  },
  {
   "cell_type": "code",
   "execution_count": 77,
   "metadata": {},
   "outputs": [],
   "source": [
    "results={}\n",
    "for course in courses:\n",
    "    matches=0\n",
    "    for words in range(0, len(courses[course])):\n",
    "        for query in range(0, len(search)):\n",
    "            if search[query] in courses[course][words]:\n",
    "                if(query<len(search)-1 and words < len(courses[course])-1):\n",
    "                    if(search[query+1] in courses[course][words+1]):\n",
    "                        matches+=1\n",
    "                    if(search[query+1] == courses[course][words+1]):\n",
    "                        matches+=1\n",
    "                matches+=1\n",
    "            if (search[query] ==courses[course][words]):\n",
    "                if(query<len(search)-1 and words < len(courses[course])-1):\n",
    "                    if(search[query+1] in courses[course][words+1]):\n",
    "                        matches+=1\n",
    "                    if(search[query+1] == courses[course][words+1]):\n",
    "                        matches+=1\n",
    "                matches+=1\n",
    "    if(matches>0):\n",
    "        if matches not in results:\n",
    "            results[matches]=[]\n",
    "        results[matches].append(course)"
   ]
  },
  {
   "cell_type": "code",
   "execution_count": 78,
   "metadata": {},
   "outputs": [
    {
     "name": "stdout",
     "output_type": "stream",
     "text": [
      "Discrete Mathematics and Mathematical Reasoning 2\n",
      "Informatics 2A - Processing Formal and Natural Languages 2\n",
      "Informatics 2B - Algorithms, Data Structures, Learning 2\n",
      "Informatics 2C - Introduction to Computer Systems 2\n",
      "Informatics 2C - Introduction to Software Engineering 2\n",
      "Informatics 2D - Reasoning and Agents 2\n"
     ]
    }
   ],
   "source": [
    "for output in reversed(sorted(results.keys())):\n",
    "    for course in results[output]:\n",
    "        print(course, output)"
   ]
  },
  {
   "cell_type": "code",
   "execution_count": null,
   "metadata": {},
   "outputs": [],
   "source": []
  }
 ],
 "metadata": {
  "kernelspec": {
   "display_name": "Python 3",
   "language": "python",
   "name": "python3"
  },
  "language_info": {
   "codemirror_mode": {
    "name": "ipython",
    "version": 3
   },
   "file_extension": ".py",
   "mimetype": "text/x-python",
   "name": "python",
   "nbconvert_exporter": "python",
   "pygments_lexer": "ipython3",
   "version": "3.6.7"
  }
 },
 "nbformat": 4,
 "nbformat_minor": 2
}
