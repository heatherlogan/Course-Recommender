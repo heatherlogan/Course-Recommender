{
 "cells": [
  {
   "cell_type": "code",
   "execution_count": 162,
   "metadata": {},
   "outputs": [],
   "source": [
    "#Create a dictionary with course names, area and summary from parsed json file. Words are converted to lower case and stemmed.\n",
    "#Key is the course name, value is a list of stemmed words from course title, area and summary with the year it is delivered in added at the end.\n",
    "#Punctuation marks have been removed using regex\n",
    "import json\n",
    "import re\n",
    "from nltk.stem.porter import *\n",
    "stemmer = PorterStemmer()\n",
    "courses={}\n",
    "with open('course_data.json') as json_file:  \n",
    "    data = json.load(json_file)\n",
    "    for p in data['courses']:\n",
    "        wordlist=[]\n",
    "        for word in p['Summary'].split() + p['Name'].split() + p['Area'].split() +[\"year\"+p['Year']]: #Add year of the course to improve search efficiency\n",
    "            word=word.lower()\n",
    "            word=re.sub(r'\\W+', '', word)\n",
    "            word=stemmer.stem(word)\n",
    "            wordlist.append(word)\n",
    "        courses[p['Name']]=wordlist"
   ]
  },
  {
   "cell_type": "code",
   "execution_count": 163,
   "metadata": {},
   "outputs": [
    {
     "name": "stdout",
     "output_type": "stream",
     "text": [
      "Search for a course: machine learning\n",
      "['machin', 'learn']\n"
     ]
    }
   ],
   "source": [
    "#User input is stemmed an converted to lowercase. When year is followed by a number it is added as a single search term.\n",
    "#For example Year 2 gets converted to year2, as this is how the year is added to the list of search terms for a course in the dictionary\n",
    "#This ensures when someone searches for Year 2 they get more courses delivered in Year 2 higher up the search results and not just courses that have the number 2 in them \n",
    "search = input(\"Search for a course: \")\n",
    "search=search.lower()\n",
    "search=search.split()\n",
    "stemmed=[]\n",
    "for word in range(0, len(search)):\n",
    "    if(search[word] in ['1', '2', '3', '4', '5']):\n",
    "        if(word>0):\n",
    "            if(search[word-1]==\"year\"):\n",
    "                stemmed[len(stemmed)-1]=\"year\"+search[word]\n",
    "            else:\n",
    "                search[word]=re.sub(r'\\W+', '', search[word])\n",
    "                stemmed.append(stemmer.stem(search[word]))\n",
    "        else:\n",
    "            search[word]=re.sub(r'\\W+', '', search[word])\n",
    "            stemmed.append(stemmer.stem(search[word]))\n",
    "    else:\n",
    "        search[word]=re.sub(r'\\W+', '', search[word])\n",
    "        stemmed.append(stemmer.stem(search[word]))\n",
    "search=stemmed\n",
    "print(search)"
   ]
  },
  {
   "cell_type": "code",
   "execution_count": 164,
   "metadata": {},
   "outputs": [],
   "source": [
    "# Search queries are given scores based ona  few different criteria\n",
    "# If a word in the search query is part of a word in the list of courses a score of 1 is added\n",
    "# If it is a perfect match an additional point is added\n",
    "# If consecutive words match or are contained within a word on the list additonal score of 1 on top of the individual matched words is added\n",
    "results={}\n",
    "for course in courses:\n",
    "    matches=0\n",
    "    for words in range(0, len(courses[course])):\n",
    "        for query in range(0, len(search)):\n",
    "            if search[query] in courses[course][words]:\n",
    "                if(query<len(search)-1 and words < len(courses[course])-1):\n",
    "                    if(search[query+1] in courses[course][words+1]):\n",
    "                        matches+=1\n",
    "                    if(search[query+1] == courses[course][words+1]):\n",
    "                        matches+=1\n",
    "                matches+=1\n",
    "            if (search[query] ==courses[course][words]):\n",
    "                if(query<len(search)-1 and words < len(courses[course])-1):\n",
    "                    if(search[query+1] in courses[course][words+1]):\n",
    "                        matches+=1\n",
    "                    if(search[query+1] == courses[course][words+1]):\n",
    "                        matches+=1\n",
    "                matches+=1\n",
    "    if(matches>0):\n",
    "        if matches not in results:\n",
    "            results[matches]=[]\n",
    "        results[matches].append(course)"
   ]
  },
  {
   "cell_type": "code",
   "execution_count": 165,
   "metadata": {},
   "outputs": [
    {
     "name": "stdout",
     "output_type": "stream",
     "text": [
      "Machine Learning and Pattern Recognition (score:56)\n",
      "Introductory Applied Machine Learning (Distance Learning) (score:50)\n",
      "Machine Learning Practical (score:48)\n",
      "Introductory Applied Machine Learning (score:48)\n",
      "Reinforcement Learning (score:22)\n",
      "Robot Learning and Sensorimotor Control (score:10)\n",
      "Algorithmic Foundations of Data Science (score:8)\n",
      "Social and Technological Networks (score:8)\n",
      "Randomness and Computation (score:8)\n",
      "Neural Information Processing (score:8)\n",
      "Natural Language Understanding, Generation, and Machine Translation (score:8)\n",
      "Natural Computing (Distance Learning) (score:8)\n",
      "Introduction to Research in Data Science (score:8)\n",
      "Extreme Computing (score:8)\n",
      "Data Mining and Exploration (score:8)\n",
      "Image and Vision Computing (Distance Learning) (score:6)\n",
      "Dissertation (DSTI - EPCC) (Distance Learning) (score:5)\n",
      "Usable Security and Privacy (score:4)\n",
      "Introduction to Vision and Robotics (Distance Learning) (score:4)\n",
      "Introduction to Java Programming (Distance Learning) (score:4)\n",
      "Informatics 2B - Algorithms, Data Structures, Learning (score:4)\n",
      "Decision Making in Robots and Autonomous Agents (score:4)\n",
      "Computational Complexity (score:4)\n",
      "Compiling Techniques (score:4)\n",
      "Data Science, Technology and Innovation Dissertation (Distance Learning) (score:3)\n",
      "Accelerated Natural Language Processing (score:2)\n",
      "Advanced Message-passing Programming (score:2)\n",
      "Software Design and Modelling (score:2)\n",
      "Probabilistic Modelling and Reasoning (score:2)\n",
      "Practical Introduction to High Performance Computing (Distance Learning) (score:2)\n",
      "Practical Introduction to Data Science (Distance Learning) (score:2)\n",
      "Natural Computing (score:2)\n",
      "Music Informatics (score:2)\n",
      "Introduction to Vision and Robotics (score:2)\n",
      "Informatics 2A - Processing Formal and Natural Languages (score:2)\n",
      "Informatics 1 - Introduction to Computation (score:2)\n",
      "Informatics 1 - Data and Analysis (score:2)\n",
      "Image and Vision Computing (score:2)\n",
      "Computer Design (score:2)\n",
      "Computational Cognitive Neuroscience (score:2)\n",
      "MSc Dissertation (Informatics) (score:1)\n",
      "MInf Project (Part 2) (score:1)\n",
      "MInf Project (Part 1) (score:1)\n",
      "Honours Project (Informatics) (score:1)\n"
     ]
    }
   ],
   "source": [
    "#Output matched courses in descending order of matches\n",
    "for output in reversed(sorted(results.keys())):\n",
    "    for course in results[output]:\n",
    "        print(course, \"(score:\"+str(output)+\")\")"
   ]
  },
  {
   "cell_type": "code",
   "execution_count": null,
   "metadata": {},
   "outputs": [],
   "source": []
  }
 ],
 "metadata": {
  "kernelspec": {
   "display_name": "Python 3",
   "language": "python",
   "name": "python3"
  },
  "language_info": {
   "codemirror_mode": {
    "name": "ipython",
    "version": 3
   },
   "file_extension": ".py",
   "mimetype": "text/x-python",
   "name": "python",
   "nbconvert_exporter": "python",
   "pygments_lexer": "ipython3",
   "version": "3.6.7"
  }
 },
 "nbformat": 4,
 "nbformat_minor": 2
}
